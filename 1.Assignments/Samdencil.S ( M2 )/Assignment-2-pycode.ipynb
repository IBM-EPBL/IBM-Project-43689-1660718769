{
 "cells": [
  {
   "cell_type": "code",
   "execution_count": 3,
   "id": "bf2be8a8",
   "metadata": {},
   "outputs": [
    {
     "name": "stdout",
     "output_type": "stream",
     "text": [
      "High temperature has detected : 487 % alarm is on\n",
      "High temperature has detected : 284 % alarm is on\n",
      "High temperature has detected : 185 % alarm is on\n",
      "High temperature has detected : 911 % alarm is on\n",
      "High temperature has detected : 488 % alarm is on\n",
      "High temperature has detected : 239 % alarm is on\n",
      "Normal temperature and humidity of: 16 894 % alarm is off\n"
     ]
    }
   ],
   "source": [
    "import random\n",
    "    \n",
    "while(True):\n",
    "    Temp=random.randint(10,1000)\n",
    "    Hum=random.randint(10,1000)\n",
    "    if(Temp>100 and Hum>900):\n",
    "        print(\"High temperature has detected :\",Temp,\"%\",\"alarm is on\")\n",
    "    elif(Temp==100 and Hum==900):\n",
    "        print(\"Medium temperature and humidity of:\",Temp,Hum,\"%\",\"alarm is off\")\n",
    "    elif(Temp<100 and Hum<900):\n",
    "        print(\"Normal temperature and humidity of:\",Temp,Hum,\"%\",\"alarm is off\")\n",
    "        break"
   ]
  },
  {
   "cell_type": "code",
   "execution_count": null,
   "id": "54434b0e",
   "metadata": {},
   "outputs": [],
   "source": []
  },
  {
   "cell_type": "code",
   "execution_count": null,
   "id": "61f58a1f",
   "metadata": {},
   "outputs": [],
   "source": []
  },
  {
   "cell_type": "code",
   "execution_count": null,
   "id": "d36e8874",
   "metadata": {},
   "outputs": [],
   "source": []
  }
 ],
 "metadata": {
  "kernelspec": {
   "display_name": "Python 3 (ipykernel)",
   "language": "python",
   "name": "python3"
  },
  "language_info": {
   "codemirror_mode": {
    "name": "ipython",
    "version": 3
   },
   "file_extension": ".py",
   "mimetype": "text/x-python",
   "name": "python",
   "nbconvert_exporter": "python",
   "pygments_lexer": "ipython3",
   "version": "3.9.7"
  }
 },
 "nbformat": 4,
 "nbformat_minor": 5
}
